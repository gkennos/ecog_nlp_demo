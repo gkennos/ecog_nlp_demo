{
 "cells": [
  {
   "cell_type": "code",
   "execution_count": null,
   "id": "3837d370",
   "metadata": {},
   "outputs": [],
   "source": [
    "from cava_nlp import CaVaLang, CaVaRetokenizer\n",
    "import pandas as pd\n",
    "from pathlib import Path\n",
    "\n",
    "data_dir = Path('./data')"
   ]
  },
  {
   "cell_type": "code",
   "execution_count": null,
   "id": "d1d79435",
   "metadata": {},
   "outputs": [],
   "source": [
    "def get_scores(doc):\n",
    "    scores = []\n",
    "    for e in doc.ents:\n",
    "        if e.label_ == 'ECOG_STATUS':\n",
    "            scores.append(doc[e.start]._.ecog_status_value)\n",
    "    return scores\n",
    "\n",
    "def get_snips(doc):\n",
    "    snips = []\n",
    "    for e in doc.ents:\n",
    "        if e.label_ == 'ECOG_STATUS':\n",
    "            snips.append(doc[max(0, e.start-5):min(e.end+5, len(doc))].text)\n",
    "    return snips\n",
    "\n",
    "def get_offsets(doc):\n",
    "    offsets = []\n",
    "    for e in doc.ents:\n",
    "        if e.label_ == 'ECOG_STATUS':\n",
    "            offsets.append(e.start)\n",
    "    return offsets\n",
    "\n",
    "\n",
    "def char_offset(doc, offset):\n",
    "    e = doc[offset]\n",
    "    start = e.idx\n",
    "    end = start + len(e)\n",
    "    return (start, end)\n",
    "    \n",
    "    \n",
    "def get_value_from_span(span, value_label):\n",
    "   for t in span:\n",
    "       val = t._.get(value_label)\n",
    "       if val != -1:\n",
    "           return val "
   ]
  },
  {
   "cell_type": "code",
   "execution_count": null,
   "id": "fe22c581",
   "metadata": {},
   "outputs": [],
   "source": [
    "nlp = CaVaLang()\n",
    "nlp.add_pipe('ecog_status', first=True)\n",
    "nlp.tokenizer = CaVaRetokenizer(nlp)"
   ]
  },
  {
   "cell_type": "code",
   "execution_count": null,
   "id": "e5e33a0d",
   "metadata": {},
   "outputs": [],
   "source": [
    "text_samples = pd.read_csv(data_dir / 'simple_egs.csv', delimiter='\\t')"
   ]
  },
  {
   "cell_type": "code",
   "execution_count": null,
   "id": "b84ce463",
   "metadata": {},
   "outputs": [],
   "source": []
  },
  {
   "cell_type": "code",
   "execution_count": null,
   "id": "6b12c3d8",
   "metadata": {},
   "outputs": [],
   "source": [
    "text_samples['doc'] = text_samples['InputData'].apply(nlp)"
   ]
  },
  {
   "cell_type": "code",
   "execution_count": null,
   "id": "f29facde",
   "metadata": {},
   "outputs": [],
   "source": [
    "text_samples['ecog_scores'] = text_samples['doc'].map(get_scores)\n",
    "text_samples['ecog_snips'] = text_samples['doc'].map(get_snips)\n",
    "text_samples['ecog_offsets'] = text_samples['doc'].map(get_offsets)"
   ]
  },
  {
   "cell_type": "code",
   "execution_count": null,
   "id": "66cad46b",
   "metadata": {},
   "outputs": [],
   "source": [
    "text_samples.ecog_scores = text_samples.ecog_scores.apply(lambda x: x[0] if len(x) > 0 else '')\n",
    "text_samples.ecog_offsets = text_samples.ecog_offsets.apply(lambda x: x[0] if len(x) > 0 else '')\n",
    "text_samples.ecog_snips = text_samples.ecog_snips.apply(lambda x: x[0] if len(x) > 0 else '')"
   ]
  },
  {
   "cell_type": "code",
   "execution_count": null,
   "id": "3f7d3264",
   "metadata": {},
   "outputs": [],
   "source": [
    "text_samples.head()"
   ]
  },
  {
   "cell_type": "code",
   "execution_count": null,
   "id": "5af1e284",
   "metadata": {},
   "outputs": [],
   "source": []
  }
 ],
 "metadata": {
  "kernelspec": {
   "display_name": ".venv (3.11.12)",
   "language": "python",
   "name": "python3"
  },
  "language_info": {
   "codemirror_mode": {
    "name": "ipython",
    "version": 3
   },
   "file_extension": ".py",
   "mimetype": "text/x-python",
   "name": "python",
   "nbconvert_exporter": "python",
   "pygments_lexer": "ipython3",
   "version": "3.11.12"
  }
 },
 "nbformat": 4,
 "nbformat_minor": 5
}
